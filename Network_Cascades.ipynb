{
 "metadata": {
  "name": "Network_Cascades"
 },
 "nbformat": 3,
 "nbformat_minor": 0,
 "worksheets": [
  {
   "cells": [
    {
     "cell_type": "code",
     "collapsed": false,
     "input": [
      "from matplotlib import rc\n",
      "rc('text', usetex=False)\n",
      "rc('font', family='serif')"
     ],
     "language": "python",
     "metadata": {},
     "outputs": [],
     "prompt_number": 3
    },
    {
     "cell_type": "code",
     "collapsed": false,
     "input": [
      "from scipy.io import loadmat\n",
      "from igraph import Graph\n",
      "from scipy.signal import correlate\n",
      "from Timelines import Timelines, Timeline\n",
      "import richclub"
     ],
     "language": "python",
     "metadata": {},
     "outputs": [],
     "prompt_number": 15
    },
    {
     "cell_type": "code",
     "collapsed": false,
     "input": [
      "data_dir = \"/data/alstottjd/Sini/\""
     ],
     "language": "python",
     "metadata": {},
     "outputs": [],
     "prompt_number": 10
    },
    {
     "cell_type": "code",
     "collapsed": false,
     "input": [
      "mat = loadmat(data_dir+'test_NL_mlast_nruns70_pinc0.001_addinc0_mnwt7_mxwt5_cf99_R1000000_netprms:_60_ws_-0.0333333-4_1_5_ncorr.mat')\n",
      "#mat = loadmat(data_dir+'test_NL_mlast_nruns70_pinc0.001_addinc0_mnwt7_mxwt5_cf99_R1000000_netprms:_60_oho_-6_1_5_ncorr.mat')"
     ],
     "language": "python",
     "metadata": {},
     "outputs": [],
     "prompt_number": 11
    },
    {
     "cell_type": "code",
     "collapsed": false,
     "input": [
      "n_nets = shape(mat['pnets'])[1]\n",
      "n_runs = shape(mat['pnets'][0,0])[1]\n",
      "n_controls = shape(mat['pnets_spr_out'][0,0])[0]\n",
      "step_size = 50\n",
      "\n",
      "T_out = Timelines()\n",
      "T_in = Timelines()\n",
      "for i in range(n_nets):\n",
      "    tl = Timeline()\n",
      "    CT_out = Timelines(with_control=False)\n",
      "    CT_in = Timelines(with_control=False)    \n",
      "    for j in arange(0,n_runs,step_size):\n",
      "        if floor(j%100)==0:\n",
      "            print \"Generation = %i\"%j\n",
      "\n",
      "        tl.add_gen(mat['pnets'][0,i][0,j].toarray().tolist())\n",
      "        \n",
      "        if j==0:\n",
      "                c_out=[]\n",
      "                c_in=[]\n",
      "        for k in range(n_controls):\n",
      "            #print \"k=%i\"%k\n",
      "            if j==0:\n",
      "                c_out.append(Timeline())\n",
      "                c_in.append(Timeline())\n",
      "         \n",
      "            control_out = mat['pnets_spr_out'][i,j,k].toarray().tolist()\n",
      "            c_out[k].add_gen(control_out)\n",
      "            control_in = mat['pnets_spr_in'][i,j,k].toarray().tolist()\n",
      "            c_in[k].add_gen(control_in)\n",
      "        \n",
      "        CT_out.add_timelines(c_out)\n",
      "        CT_in.add_timelines(c_in)\n",
      "        \n",
      "    T_out.add_timeline(tl, CT_out) \n",
      "    T_in.add_timeline(tl, CT_in)\n",
      "        "
     ],
     "language": "python",
     "metadata": {},
     "outputs": [
      {
       "output_type": "stream",
       "stream": "stdout",
       "text": [
        "Generation = 0\n",
        "Generation = 50"
       ]
      },
      {
       "output_type": "stream",
       "stream": "stdout",
       "text": [
        "\n",
        "Generation = 100"
       ]
      },
      {
       "output_type": "stream",
       "stream": "stdout",
       "text": [
        "\n",
        "Generation = 150"
       ]
      },
      {
       "output_type": "stream",
       "stream": "stdout",
       "text": [
        "\n",
        "Generation = 200"
       ]
      },
      {
       "output_type": "stream",
       "stream": "stdout",
       "text": [
        "\n",
        "Generation = 250"
       ]
      },
      {
       "output_type": "stream",
       "stream": "stdout",
       "text": [
        "\n",
        "Generation = 300"
       ]
      },
      {
       "output_type": "stream",
       "stream": "stdout",
       "text": [
        "\n",
        "Generation = 350"
       ]
      },
      {
       "output_type": "stream",
       "stream": "stdout",
       "text": [
        "\n",
        "Generation = 400"
       ]
      },
      {
       "output_type": "stream",
       "stream": "stdout",
       "text": [
        "\n",
        "Generation = 450"
       ]
      },
      {
       "output_type": "stream",
       "stream": "stdout",
       "text": [
        "\n",
        "Generation = 500"
       ]
      },
      {
       "output_type": "stream",
       "stream": "stdout",
       "text": [
        "\n",
        "Generation = 0"
       ]
      },
      {
       "output_type": "stream",
       "stream": "stdout",
       "text": [
        "\n",
        "Generation = 50"
       ]
      },
      {
       "output_type": "stream",
       "stream": "stdout",
       "text": [
        "\n",
        "Generation = 100"
       ]
      },
      {
       "output_type": "stream",
       "stream": "stdout",
       "text": [
        "\n",
        "Generation = 150"
       ]
      },
      {
       "output_type": "stream",
       "stream": "stdout",
       "text": [
        "\n",
        "Generation = 200"
       ]
      },
      {
       "output_type": "stream",
       "stream": "stdout",
       "text": [
        "\n",
        "Generation = 250"
       ]
      },
      {
       "output_type": "stream",
       "stream": "stdout",
       "text": [
        "\n",
        "Generation = 300"
       ]
      },
      {
       "output_type": "stream",
       "stream": "stdout",
       "text": [
        "\n",
        "Generation = 350"
       ]
      },
      {
       "output_type": "stream",
       "stream": "stdout",
       "text": [
        "\n",
        "Generation = 400"
       ]
      },
      {
       "output_type": "stream",
       "stream": "stdout",
       "text": [
        "\n",
        "Generation = 450"
       ]
      },
      {
       "output_type": "stream",
       "stream": "stdout",
       "text": [
        "\n",
        "Generation = 500"
       ]
      },
      {
       "output_type": "stream",
       "stream": "stdout",
       "text": [
        "\n",
        "Generation = 0"
       ]
      },
      {
       "output_type": "stream",
       "stream": "stdout",
       "text": [
        "\n",
        "Generation = 50"
       ]
      },
      {
       "output_type": "stream",
       "stream": "stdout",
       "text": [
        "\n",
        "Generation = 100"
       ]
      },
      {
       "output_type": "stream",
       "stream": "stdout",
       "text": [
        "\n",
        "Generation = 150"
       ]
      },
      {
       "output_type": "stream",
       "stream": "stdout",
       "text": [
        "\n",
        "Generation = 200"
       ]
      },
      {
       "output_type": "stream",
       "stream": "stdout",
       "text": [
        "\n",
        "Generation = 250"
       ]
      },
      {
       "output_type": "stream",
       "stream": "stdout",
       "text": [
        "\n",
        "Generation = 300"
       ]
      },
      {
       "output_type": "stream",
       "stream": "stdout",
       "text": [
        "\n",
        "Generation = 350"
       ]
      },
      {
       "output_type": "stream",
       "stream": "stdout",
       "text": [
        "\n",
        "Generation = 400"
       ]
      },
      {
       "output_type": "stream",
       "stream": "stdout",
       "text": [
        "\n",
        "Generation = 450"
       ]
      },
      {
       "output_type": "stream",
       "stream": "stdout",
       "text": [
        "\n",
        "Generation = 500"
       ]
      },
      {
       "output_type": "stream",
       "stream": "stdout",
       "text": [
        "\n",
        "Generation = 0"
       ]
      },
      {
       "output_type": "stream",
       "stream": "stdout",
       "text": [
        "\n",
        "Generation = 50"
       ]
      },
      {
       "output_type": "stream",
       "stream": "stdout",
       "text": [
        "\n",
        "Generation = 100"
       ]
      },
      {
       "output_type": "stream",
       "stream": "stdout",
       "text": [
        "\n",
        "Generation = 150"
       ]
      },
      {
       "output_type": "stream",
       "stream": "stdout",
       "text": [
        "\n",
        "Generation = 200"
       ]
      },
      {
       "output_type": "stream",
       "stream": "stdout",
       "text": [
        "\n",
        "Generation = 250"
       ]
      },
      {
       "output_type": "stream",
       "stream": "stdout",
       "text": [
        "\n",
        "Generation = 300"
       ]
      },
      {
       "output_type": "stream",
       "stream": "stdout",
       "text": [
        "\n",
        "Generation = 350"
       ]
      },
      {
       "output_type": "stream",
       "stream": "stdout",
       "text": [
        "\n",
        "Generation = 400"
       ]
      },
      {
       "output_type": "stream",
       "stream": "stdout",
       "text": [
        "\n",
        "Generation = 450"
       ]
      },
      {
       "output_type": "stream",
       "stream": "stdout",
       "text": [
        "\n",
        "Generation = 500"
       ]
      },
      {
       "output_type": "stream",
       "stream": "stdout",
       "text": [
        "\n",
        "Generation = 0"
       ]
      },
      {
       "output_type": "stream",
       "stream": "stdout",
       "text": [
        "\n",
        "Generation = 50"
       ]
      },
      {
       "output_type": "stream",
       "stream": "stdout",
       "text": [
        "\n",
        "Generation = 100"
       ]
      },
      {
       "output_type": "stream",
       "stream": "stdout",
       "text": [
        "\n",
        "Generation = 150"
       ]
      },
      {
       "output_type": "stream",
       "stream": "stdout",
       "text": [
        "\n",
        "Generation = 200"
       ]
      },
      {
       "output_type": "stream",
       "stream": "stdout",
       "text": [
        "\n",
        "Generation = 250"
       ]
      },
      {
       "output_type": "stream",
       "stream": "stdout",
       "text": [
        "\n",
        "Generation = 300"
       ]
      },
      {
       "output_type": "stream",
       "stream": "stdout",
       "text": [
        "\n",
        "Generation = 350"
       ]
      },
      {
       "output_type": "stream",
       "stream": "stdout",
       "text": [
        "\n",
        "Generation = 400"
       ]
      },
      {
       "output_type": "stream",
       "stream": "stdout",
       "text": [
        "\n",
        "Generation = 450"
       ]
      },
      {
       "output_type": "stream",
       "stream": "stdout",
       "text": [
        "\n",
        "Generation = 500"
       ]
      },
      {
       "output_type": "stream",
       "stream": "stdout",
       "text": [
        "\n"
       ]
      }
     ],
     "prompt_number": 17
    },
    {
     "cell_type": "raw",
     "metadata": {},
     "source": [
      "n_nets = shape(mat['pnets'])[1]\n",
      "n_runs = shape(mat['pnets'][0,0])[1]\n",
      "\n",
      "q_betweeness = zeros([n_nets, n_runs])\n",
      "n_betweeness = zeros([n_nets, n_runs])\n",
      "q_walktrap = zeros([n_nets, n_runs])\n",
      "n_walktrap = zeros([n_nets, n_runs])\n",
      "q_infomap = zeros([n_nets, n_runs])\n",
      "n_infomap = zeros([n_nets, n_runs])\n",
      "codelength = zeros([n_nets, n_runs])\n",
      "mean_path_length = zeros([n_nets, n_runs])\n",
      "mean_clustering = zeros([n_nets, n_runs])\n",
      "betweeness_change = zeros([n_nets, n_runs])\n",
      "\n",
      "rc_out = zeros([n_nets, n_runs, 9])\n",
      "rc_in = zeros([n_nets, n_runs, 9])\n",
      "rc_out_int = zeros([n_nets, n_runs])\n",
      "rc_in_int = zeros([n_nets, n_runs])\n",
      "close('all')\n",
      "node_size = 100\n",
      "alpha = .9\n",
      "width = .4\n",
      "\n",
      "for i in range(n_nets):\n",
      "    last_betweeness = 0\n",
      "    for j in arange(0,n_runs):#,10):\n",
      "        if floor(j%50)==0:\n",
      "            print j\n",
      "\n",
      "        g = Graph.Weighted_Adjacency(mat['pnets'][0,i][0,j].toarray().tolist())\n",
      "        \n",
      "        \n",
      "        #b = g.community_edge_betweenness(directed=True, weights=g.es[\"weight\"])\n",
      "        #n_betweeness.append(b.optimal_count)\n",
      "        #q_betweeness.append(b.as_clustering().q)\n",
      "        \n",
      "        #w = g.community_walktrap(weights=g.es[\"weight\"], steps=100)\n",
      "        #n_walktrap.append(w.optimal_count)\n",
      "        #q_walktrap.append(w.as_clustering().q)\n",
      "        \n",
      "        infomap = g.community_infomap(edge_weights=g.es[\"weight\"])\n",
      "        n_infomap[i,j] = infomap.cluster_graph().vcount()\n",
      "        q_infomap[i,j] = infomap.q\n",
      "        codelength[i, j] = infomap.codelength\n",
      "\n",
      "        mean_path_length[i,j] = mean(g.shortest_paths(weights='weight'))\n",
      "        mean_clustering[i,j] = mean(g.transitivity_local_undirected(weights='weight'))\n",
      "        \n",
      "        betweeness_sequence = g.edge_betweenness(weights='weight')\n",
      "        if last_betweeness==0:\n",
      "            last_betweeness = betweeness_sequence\n",
      "        else:\n",
      "            betweeness_change[i,j] = kendalltau(last_betweeness, betweeness_sequence)[0]\n",
      "        \n",
      "        rc_out[i,j,:] = rich_club_coefficient(g, scores_name='out_strength', control = mat['pnets_spr_out'][i,j,:])\n",
      "        rc_in[i,j,:] = rich_club_coefficient(g, scores_name='in_strength', control = mat['pnets_spr_in'][i,j,:])\n",
      "        rc_out_int[i,j] = sum(rc_out[i,j,:]-1)\n",
      "        rc_in_int[i,j] = sum(rc_in[i,j,:]-1)\n",
      "        \n",
      "        \n",
      "            \n",
      "        if j in [0, 180, 480]:\n",
      "            savetxt('inrichclub_frame%i.txt'%j, rc_in[i,j,:])\n",
      "            savetxt('outrichclub_frame%i.txt'%j, rc_out[i,j,:])\n",
      "            \n",
      "            figure()\n",
      "            plot(rc_in[i,j,:], 'b')\n",
      "            plot(rc_out[i,j,:], 'g')\n",
      "            #show()\n",
      "            savefig('richclub_frame%i.pdf'%j)\n",
      "            \n",
      "        #net = nx.DiGraph(mat['pnets'][0,i][0,j])\n",
      "        #pos=nx.spring_layout(net)\n",
      "        #figure()\n",
      "        #title(str(i)+', '+str(z.as_clustering().q))\n",
      "        #nx.draw(net,pos,node_size=node_size,alpha=alpha, width=width, with_labels=False)\n",
      "        #show()"
     ]
    },
    {
     "cell_type": "code",
     "collapsed": false,
     "input": [
      "increment = 1.0/10.0\n",
      "x_vals = arange(.1, 1, .1)\n",
      "w= 3.375\n",
      "h = w/1.6180\n",
      "#f = figure(figsize=(w,h))\n",
      "f = figure()\n",
      "\n",
      "ax1 = f.add_subplot(131)\n",
      "handles = {}\n",
      "handles['In Strength'] = ax1.plot(x_vals, T_in.rc_in[0]rc_in[0,0, :], label='In Strength Rich Club', color='b')\n",
      "handles['In Strength'] = ax1.plot(x_vals, rc_out[0,0,:], label='Out Strength Rich Club', color='g')\n",
      "plt.setp(ax1.get_xticklabels(), visible=False)\n",
      "ylabel(\"Rich Club Coefficient\")\n",
      "text(.5, .9, '0 Cascades', transform = ax1.transAxes, horizontalalignment='center', fontsize=10)\n",
      "#xlabel('Strength Decile')\n",
      "plt.xticks(x_vals[::2], x_vals[::2])\n",
      "#handles, labels = ax1.get_legend_handles_labels()\n",
      "#ax1.legend(handles, labels, loc=6)\n",
      "\n",
      "ax2 = f.add_subplot(132, sharey=ax1)\n",
      "handles = {}\n",
      "handles['In Strength'] = ax2.plot(x_vals, rc_in[0,180,:], label='In Strength Rich Club', color='b')\n",
      "handles['In Strength'] = ax2.plot(x_vals, rc_out[0,180,:], label='Out Strength Rich Club', color='g')\n",
      "plt.setp(ax2.get_yticklabels(), visible=False)\n",
      "xlabel('Strength Decile')\n",
      "plt.xticks(x_vals[::2], (x_vals[::2]*100).astype(int))\n",
      "text(.5, .9, '36x10$^{5}$ Cascades', transform = ax2.transAxes, horizontalalignment='center', fontsize=10)\n",
      "#handles, labels = ax.get_legend_handles_labels()\n",
      "#ax.legend(handles, labels, loc=1)\n",
      "\n",
      "ax3 = f.add_subplot(133, sharey=ax1)\n",
      "handles = {}\n",
      "handles['In Strength'] = ax3.plot(x_vals, rc_in[0,480,:], label='In Strength', color='b')\n",
      "handles['In Strength'] = ax3.plot(x_vals, rc_out[0,480,:], label='Out Strength', color='g')\n",
      "plt.setp(ax3.get_yticklabels(), visible=False)\n",
      "plt.setp(ax3.get_xticklabels(), visible=False)\n",
      "text(.5, .9, '96x10$^{5}$ Cascades', transform = ax3.transAxes, horizontalalignment='center', fontsize=10)\n",
      "#xlabel('Strength Decile')\n",
      "plt.xticks(x_vals[::2], x_vals[::2])\n",
      "\n",
      "handles, labels = ax3.get_legend_handles_labels()\n",
      "ax3.legend(handles, labels, loc=5, fontsize=8)\n",
      "\n",
      "\n",
      "savefig(data_dir+'RichClubSamples.pdf', bbox_inches='tight')\n",
      "#suptitle('Rich Club Growth and Death')"
     ],
     "language": "python",
     "metadata": {},
     "outputs": [
      {
       "ename": "SyntaxError",
       "evalue": "invalid syntax (<ipython-input-5-e0c1196505a2>, line 10)",
       "output_type": "pyerr",
       "traceback": [
        "\u001b[1;36m  File \u001b[1;32m\"<ipython-input-5-e0c1196505a2>\"\u001b[1;36m, line \u001b[1;32m10\u001b[0m\n\u001b[1;33m    handles['In Strength'] = ax1.plot(x_vals, T_in.rc_in[0]rc_in[0,0, :], label='In Strength Rich Club', color='b')\u001b[0m\n\u001b[1;37m                                                               ^\u001b[0m\n\u001b[1;31mSyntaxError\u001b[0m\u001b[1;31m:\u001b[0m invalid syntax\n"
       ]
      }
     ],
     "prompt_number": 5
    },
    {
     "cell_type": "code",
     "collapsed": false,
     "input": [
      "close('all')\n",
      "x_vals = arange(0, n_runs, step_size)\n",
      "x_vals = 10.0*x_vals/n_runs"
     ],
     "language": "python",
     "metadata": {},
     "outputs": [],
     "prompt_number": 46
    },
    {
     "cell_type": "code",
     "collapsed": false,
     "input": [
      "from matplotlib.ticker import MultipleLocator, FormatStrFormatter\n",
      "\n",
      "#Modularity Metrics\n",
      "#plot(n_betweeness)\n",
      "figure()\n",
      "#plot(q_betweeness)\n",
      "y_vals, error  = T_out.__getattr__(\"n_infomap\", version='raw')\n",
      "plot(x_vals, y_vals)\n",
      "fill_between(x_vals, y_vals-error, y_vals+error, alpha=.5)\n",
      "\n",
      "xlabel(\"Cascades (n x 10$^{6}$)\")\n",
      "ylabel(\"Number of Modules\")\n",
      "inset_ax = axes([0.58,0.58,0.3,0.3])\n",
      "y_vals, error  = T_out.__getattr__(\"q_infomap\", version='raw')\n",
      "inset_ax.plot(x_vals, y_vals)\n",
      "inset_ax.fill_between(x_vals, y_vals-error, y_vals+error, alpha=.5)\n",
      "ylabel(\"Modularity Index\", fontsize=10)\n",
      "inset_ax.yaxis.set_major_locator(MultipleLocator(.1))\n",
      "\n",
      "\n",
      "#savetxt('modules.txt', mean(n_infomap, axis=0))\n",
      "#savetxt('modularity.txt', mean(q_infomap, axis=0))\n",
      "savefig(data_dir+'Modularity.pdf', bbox_inches='tight')\n",
      "#title(\"Modularity with Learning\")"
     ],
     "language": "python",
     "metadata": {},
     "outputs": [
      {
       "output_type": "display_data",
       "png": "[encoded data removed]"
      }
     ],
     "prompt_number": 47
    },
    {
     "cell_type": "code",
     "collapsed": false,
     "input": [
      "figure()\n",
      "y_vals, error = T_out.__getattr__(\"codelength\", version='normalized')\n",
      "plot(x_vals, y_vals)\n",
      "fill_between(x_vals, y_vals-error, y_vals+error, alpha=.5)\n",
      "\n",
      "xlabel(\"Cascades (n x 10$^{6}$)\")\n",
      "ylabel(\"Bits to Represent Network\")\n",
      "\n",
      "#savetxt('compression.txt', mean(codelength, axis=0))\n",
      "savefig(data_dir+'Compression.pdf', bbox_inches='tight')\n",
      "#title(\"Network Compression with Learning\")"
     ],
     "language": "python",
     "metadata": {},
     "outputs": [
      {
       "output_type": "display_data",
       "png": "[encoded data removed]"
      }
     ],
     "prompt_number": 49
    },
    {
     "cell_type": "code",
     "collapsed": false,
     "input": [
      "f = figure()\n",
      "ax = f.add_subplot(111)\n",
      "handles = {}\n",
      "y_vals, error = T_in.__getattr__(\"rc_in_int\", version='raw')\n",
      "handles['In Strength'] = ax.plot(x_vals, y_vals, label='In Strength', color='b')\n",
      "fill_between(x_vals, y_vals-error, y_vals+error, color='b', alpha=.5)\n",
      "\n",
      "y_vals, error = T_out.__getattr__(\"rc_out_int\", version='raw')\n",
      "handles['Out Strength'] = ax.plot(x_vals, y_vals, label='Out Strength', color='g')\n",
      "fill_between(x_vals, y_vals-error, y_vals+error, color='g', alpha=.5)\n",
      "\n",
      "\n",
      "xlabel(\"Cascades (n x 10$^{6}$)\")\n",
      "ylabel(\"Integrated Rich Club Index\")\n",
      "\n",
      "handles, labels = ax.get_legend_handles_labels()\n",
      "ax.legend(handles, labels, loc=1)\n",
      "\n",
      "#savetxt('inrichclubint.txt', rc_in_int)\n",
      "#savetxt('outrichclubint.txt', rc_out_int)\n",
      "savefig(data_dir+'RichClubInt.pdf', bbox_inches='tight')\n",
      "#title(\"Rich Club with Learning\")"
     ],
     "language": "python",
     "metadata": {},
     "outputs": [
      {
       "output_type": "display_data",
       "png": "[encoded data removed]"
      }
     ],
     "prompt_number": 50
    },
    {
     "cell_type": "code",
     "collapsed": false,
     "input": [
      "f = figure()\n",
      "ax = f.add_subplot(111)\n",
      "handles = {}\n",
      "y_vals, error = T_out.mean_path_length\n",
      "handles['In Strength'] = ax.plot(x_vals, y_vals, label='Path Length', color='b')\n",
      "fill_between(x_vals, y_vals-error, y_vals+error, color='b', alpha=.5)\n",
      "\n",
      "y_vals, error = T_out.mean_clustering\n",
      "handles['Out Strength'] = ax.plot(x_vals, y_vals, label='Clustering', color='g')\n",
      "fill_between(x_vals, y_vals-error, y_vals+error, color='g', alpha=.5)\n",
      "\n",
      "\n",
      "xlabel(\"Cascades (n x 10$^{6}$)\")\n",
      "#ylabel(\"Integrated Rich Club Index\")\n",
      "\n",
      "handles, labels = ax.get_legend_handles_labels()\n",
      "ax.legend(handles, labels, loc=1)\n",
      "\n",
      "#savetxt('inrichclubint.txt', rc_in_int)\n",
      "#savetxt('outrichclubint.txt', rc_out_int)\n",
      "#savefig(data_dir+'RichClubInt.pdf', bbox_inches='tight')\n",
      "#title(\"Rich Club with Learning\")"
     ],
     "language": "python",
     "metadata": {},
     "outputs": [
      {
       "output_type": "pyout",
       "prompt_number": 40,
       "text": [
        "<matplotlib.legend.Legend at 0x23c7d2d0>"
       ]
      },
      {
       "output_type": "display_data",
       "png": "[encoded data removed]"
      }
     ],
     "prompt_number": 40
    },
    {
     "cell_type": "code",
     "collapsed": false,
     "input": [
      "figure()\n",
      "y_vals, error = T_out.__getattr__(\"betweeness_change_kendall\", version='raw')\n",
      "plot(x_vals[1:], y_vals)\n",
      "fill_between(x_vals[1:], y_vals-error, y_vals+error, alpha=.5)\n",
      "\n",
      "xlabel(\"Cascades (n x 10$^{6}$)\")\n",
      "ylabel(\"betweeness_change\")\n",
      "\n",
      "#savetxt('compression.txt', mean(codelength, axis=0))\n",
      "#savefig(data_dir+'Compression.pdf', bbox_inches='tight')\n",
      "#title(\"Network Compression with Learning\")"
     ],
     "language": "python",
     "metadata": {},
     "outputs": [
      {
       "output_type": "pyout",
       "prompt_number": 41,
       "text": [
        "<matplotlib.text.Text at 0x23c8df10>"
       ]
      },
      {
       "output_type": "display_data",
       "png": "[encoded data removed]"
      }
     ],
     "prompt_number": 41
    },
    {
     "cell_type": "code",
     "collapsed": false,
     "input": [
      "x_vals = arange(-1*(shape(rc_in_int)[1]-1), shape(rc_in_int)[1], 1)"
     ],
     "language": "python",
     "metadata": {},
     "outputs": []
    },
    {
     "cell_type": "code",
     "collapsed": false,
     "input": [
      "##Different Rich Club Metrics' Correlation with Each Other\n",
      "f = figure()\n",
      "ax = f.add_subplot(111)\n",
      "handles = {}\n",
      "\n",
      "corr_out_in = zeros([shape(rc_in_int)[0], shape(rc_in_int)[1]*2-1])\n",
      "\n",
      "for i in range(shape(rc_in_int)[0]):\n",
      "    corr_out_in[i] = correlate(array(rc_in_int[i]), array(rc_out_int[i]))\n",
      "##\"When does in strength look like out strength?\"\n",
      "#ax.plot(x, mean(corr_out_in, axis=0))\n",
      "y_vals = mean(corr_out_in, axis=0)\n",
      "error = std(corr_out_in, axis=0)\n",
      "plot(x_vals, y_vals)\n",
      "fill_between(x_vals, y_vals-error, y_vals+error, alpha=.5)\n",
      "\n",
      "max_corr_out_in = x_vals[argmax(mean(corr_out_in, axis=0))]\n",
      "ax.plot((max_corr_out_in, max_corr_out_in), ylim(), 'b--')\n",
      "\n",
      "xlabel(\"Cascades (n x 10$^{6}$)\")\n",
      "ylabel(\"Cross-Correlation\")\n",
      "title(\"In Strength Rich Club and Out Strength Rich Club Cross Correlation\")"
     ],
     "language": "python",
     "metadata": {},
     "outputs": []
    },
    {
     "cell_type": "code",
     "collapsed": false,
     "input": [
      "def plot_line(x, y, ax, label, color='b'):\n",
      "\n",
      "    y_vals = mean(y, axis=0)\n",
      "    error = std(y, axis=0)\n",
      "    ax.plot(x_vals, y_vals, color, label=label)\n",
      "    fill_between(x_vals, y_vals-error, y_vals+error, alpha=.5, color = color)"
     ],
     "language": "python",
     "metadata": {},
     "outputs": []
    },
    {
     "cell_type": "code",
     "collapsed": false,
     "input": [
      "def correlation_figure(a, b, ax, color='b', label=None):\n",
      "    \n",
      "    \n",
      "    corr = zeros([shape(a)[0], shape(a)[1]*2-1])\n",
      "    for i in range(shape(a)[0]):\n",
      "        corr[i] = correlate(array(a[i]), array(b[i]))\n",
      "    \n",
      "    x_vals = arange(-1*(shape(a)[1]-1), shape(a)[1], 1)\n",
      "    \n",
      "    \n",
      "    plot_line(x_vals, corr, ax, color = color, label=label)\n",
      "    \n",
      "    max_corr = x_vals[argmax(mean(corr, axis=0))]\n",
      "    \n",
      "    ax.plot((max_corr, max_corr), ylim(), color+'--')\n",
      "    xlabel(\"Cascades (n x 10$^{6}$)\")\n",
      "    ylabel(\"Cross-Correlation\")\n",
      "    \n",
      "    "
     ],
     "language": "python",
     "metadata": {},
     "outputs": [],
     "prompt_number": 6
    },
    {
     "cell_type": "code",
     "collapsed": false,
     "input": [
      "##Rich Club correlation with Modularity\n",
      "f = figure()\n",
      "ax = f.add_subplot(111)\n",
      "correlation_figure(rc_in_int, q_infomap, ax, 'b', 'In Strength')\n",
      "correlation_figure(rc_out_int, q_infomap, ax, 'g', 'Out Strength')\n",
      "handles, labels = ax.get_legend_handles_labels()\n",
      "ax.legend(handles, labels, loc=1)\n",
      "title(\"Rich Club and Modularity Cross Correlation\")"
     ],
     "language": "python",
     "metadata": {},
     "outputs": [
      {
       "ename": "NameError",
       "evalue": "name 'rc_in_int' is not defined",
       "output_type": "pyerr",
       "traceback": [
        "\u001b[1;31m---------------------------------------------------------------------------\u001b[0m\n\u001b[1;31mNameError\u001b[0m                                 Traceback (most recent call last)",
        "\u001b[1;32m<ipython-input-7-6f1bf56c1102>\u001b[0m in \u001b[0;36m<module>\u001b[1;34m()\u001b[0m\n\u001b[0;32m      2\u001b[0m \u001b[0mf\u001b[0m \u001b[1;33m=\u001b[0m \u001b[0mfigure\u001b[0m\u001b[1;33m(\u001b[0m\u001b[1;33m)\u001b[0m\u001b[1;33m\u001b[0m\u001b[0m\n\u001b[0;32m      3\u001b[0m \u001b[0max\u001b[0m \u001b[1;33m=\u001b[0m \u001b[0mf\u001b[0m\u001b[1;33m.\u001b[0m\u001b[0madd_subplot\u001b[0m\u001b[1;33m(\u001b[0m\u001b[1;36m111\u001b[0m\u001b[1;33m)\u001b[0m\u001b[1;33m\u001b[0m\u001b[0m\n\u001b[1;32m----> 4\u001b[1;33m \u001b[0mcorrelation_figure\u001b[0m\u001b[1;33m(\u001b[0m\u001b[0mrc_in_int\u001b[0m\u001b[1;33m,\u001b[0m \u001b[0mq_infomap\u001b[0m\u001b[1;33m,\u001b[0m \u001b[0max\u001b[0m\u001b[1;33m,\u001b[0m \u001b[1;34m'b'\u001b[0m\u001b[1;33m,\u001b[0m \u001b[1;34m'In Strength'\u001b[0m\u001b[1;33m)\u001b[0m\u001b[1;33m\u001b[0m\u001b[0m\n\u001b[0m\u001b[0;32m      5\u001b[0m \u001b[0mcorrelation_figure\u001b[0m\u001b[1;33m(\u001b[0m\u001b[0mrc_out_int\u001b[0m\u001b[1;33m,\u001b[0m \u001b[0mq_infomap\u001b[0m\u001b[1;33m,\u001b[0m \u001b[0max\u001b[0m\u001b[1;33m,\u001b[0m \u001b[1;34m'g'\u001b[0m\u001b[1;33m,\u001b[0m \u001b[1;34m'Out Strength'\u001b[0m\u001b[1;33m)\u001b[0m\u001b[1;33m\u001b[0m\u001b[0m\n\u001b[0;32m      6\u001b[0m \u001b[0mhandles\u001b[0m\u001b[1;33m,\u001b[0m \u001b[0mlabels\u001b[0m \u001b[1;33m=\u001b[0m \u001b[0max\u001b[0m\u001b[1;33m.\u001b[0m\u001b[0mget_legend_handles_labels\u001b[0m\u001b[1;33m(\u001b[0m\u001b[1;33m)\u001b[0m\u001b[1;33m\u001b[0m\u001b[0m\n",
        "\u001b[1;31mNameError\u001b[0m: name 'rc_in_int' is not defined"
       ]
      },
      {
       "output_type": "display_data",
       "png": "[encoded data removed]"
      }
     ],
     "prompt_number": 7
    },
    {
     "cell_type": "code",
     "collapsed": false,
     "input": [
      "##Rich Club correlation with Modularity\n",
      "f = figure()\n",
      "ax = f.add_subplot(111)\n",
      "correlation_figure(rc_in_int, n_infomap, ax, 'b', 'In Strength')\n",
      "correlation_figure(rc_out_int, n_infomap, ax, 'g', 'Out Strength')\n",
      "handles, labels = ax.get_legend_handles_labels()\n",
      "ax.legend(handles, labels, loc=1)\n",
      "title(\"Rich Club and Number of Modules Cross Correlation\")"
     ],
     "language": "python",
     "metadata": {},
     "outputs": []
    },
    {
     "cell_type": "code",
     "collapsed": false,
     "input": [
      "##Rich Club correlation with Modularity\n",
      "f = figure()\n",
      "ax = f.add_subplot(111)\n",
      "correlation_figure(rc_in_int, 1/codelength, ax, 'b', 'In Strength')\n",
      "correlation_figure(rc_out_int, 1/codelength, ax, 'g', 'Out Strength')\n",
      "handles, labels = ax.get_legend_handles_labels()\n",
      "ax.legend(handles, labels, loc=1)\n",
      "title(\"Rich Club and Network Compression Cross Correlation\")"
     ],
     "language": "python",
     "metadata": {},
     "outputs": []
    },
    {
     "cell_type": "markdown",
     "metadata": {},
     "source": [
      "In Strength Rich Clubs trail Out Strength Rich Club\n",
      "\n",
      "Both Rich Clubs trail Modularity"
     ]
    },
    {
     "cell_type": "code",
     "collapsed": false,
     "input": [
      "from rpy2.robjects import r\n",
      "r(\"source('/home/alstottjd/alluvial/code_for_jeff_20Aug2012.R')\")\n",
      "change_in_community_structure=asarray(r('OUTPUT1'))"
     ],
     "language": "python",
     "metadata": {},
     "outputs": []
    },
    {
     "cell_type": "code",
     "collapsed": false,
     "input": [
      "print change_in_community_structure\n",
      "print diff(rc_in_int[:40])\n",
      "scatter(change_in_community_structure, diff(rc_in_int[:40]))"
     ],
     "language": "python",
     "metadata": {},
     "outputs": []
    },
    {
     "cell_type": "code",
     "collapsed": false,
     "input": [
      "import Aaron"
     ],
     "language": "python",
     "metadata": {},
     "outputs": []
    },
    {
     "cell_type": "code",
     "collapsed": false,
     "input": [
      "plot(change_in_community_structure)"
     ],
     "language": "python",
     "metadata": {},
     "outputs": []
    },
    {
     "cell_type": "code",
     "collapsed": false,
     "input": [
      "f = figure()\n",
      "ax = f.add_subplot(111)\n",
      "\n",
      "ax.scatter(change_in_community_structure, abs(diff(rc_in_int[:40])), c='b', label='In Strength')\n",
      "ax.scatter(change_in_community_structure, abs(diff(rc_out_int[:40])), c='g', label='Out Strength')\n",
      "\n",
      "handles, labels = ax.get_legend_handles_labels()\n",
      "ax.legend(handles, labels, loc=1)"
     ],
     "language": "python",
     "metadata": {},
     "outputs": []
    }
   ],
   "metadata": {}
  }
 ]
}