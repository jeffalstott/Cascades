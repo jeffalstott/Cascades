{
 "metadata": {
  "name": "Network_Cascades"
 },
 "nbformat": 3,
 "nbformat_minor": 0,
 "worksheets": [
  {
   "cells": [
    {
     "cell_type": "code",
     "collapsed": false,
     "input": [
      "from matplotlib import rc\n",
      "rc('text', usetex=False)\n",
      "rc('font', family='serif')"
     ],
     "language": "python",
     "metadata": {},
     "outputs": [],
     "prompt_number": 177
    },
    {
     "cell_type": "code",
     "collapsed": false,
     "input": [
      "from scipy.io import loadmat\n",
      "from igraph import Graph, summary\n",
      "import networkx as nx\n",
      "from scipy.signal import correlate\n",
      "from scipy.stats import kendalltau, spearmanr, rankdata"
     ],
     "language": "python",
     "metadata": {},
     "outputs": [],
     "prompt_number": 178
    },
    {
     "cell_type": "code",
     "collapsed": false,
     "input": [
      "def directed_spr(G, n_rewires=10, weighted='out'):\n",
      "    #des = []\n",
      "    #tes = []\n",
      "    g = G.copy()\n",
      "    nes = len(g.es)\n",
      "\n",
      "    i=0\n",
      "    while i<(n_rewires*nes):\n",
      "        e1 = randint(nes)\n",
      "        e2 = randint(nes)\n",
      "        #In case we select the same edge twice, roll again.\n",
      "        if e1==e2:\n",
      "            continue\n",
      "\n",
      "        s1 = g.es[e1].source\n",
      "        t1 = g.es[e1].target\n",
      "        a1 = g.es[e1].attributes()\n",
      "        s2 = g.es[e2].source\n",
      "        t2 = g.es[e2].target\n",
      "        a2 = g.es[e2].attributes()\n",
      "        #If either of the to-be-newly-wired connections already exist, roll again.\n",
      "        #This prevents multiple edges going in the same direction between two nodes.\n",
      "        if t2 in g.neighbors(s1, mode=1) or t1 in g.neighbors(s2,mode=1):\n",
      "            continue\n",
      "       \n",
      "        n = len(g.es)\n",
      "        g.delete_edges([e1, e2])\n",
      "        m = len(g.es)\n",
      "        #print(m-n)\n",
      "        if weighted=='out': #Rewire the outgoing connections\n",
      "            g.add_edge(s1, t2, **a1)\n",
      "            g.add_edge(s2, t1, **a2)\n",
      "        elif weighted=='in': #Rewire the incoming connections\n",
      "            #Only difference is in the weight assignments\n",
      "            g.add_edge(s1, t2, **a2)\n",
      "            g.add_edge(s2, t1, **a1)\n",
      "        #Note that in the unweighted condition these two methods are equivalent, so either option\n",
      "        #for 'weighted' produces the same (correct) randomization, while preserving in degree\n",
      "        # and out degree for each node\n",
      "            \n",
      "            \n",
      "        #des.append(len(g.es)-n)\n",
      "        #tes.append(len(g.es))\n",
      "        i+=1\n",
      "    return g"
     ],
     "language": "python",
     "metadata": {},
     "outputs": [],
     "prompt_number": 179
    },
    {
     "cell_type": "code",
     "collapsed": false,
     "input": [
      "def rich_nodes(graph, fraction=0.1, highest=True, scores=None):\n",
      "    \"\"\"Extracts the \"rich club\" of the given graph, i.e. the subgraph spanned\n",
      "    between vertices having the top X% of some score.\n",
      " \n",
      "    Scores are given by the vertex degrees by default.\n",
      " \n",
      "    @param graph:    the graph to work on\n",
      "    @param fraction: the fraction of vertices to extract; must be between 0 and 1.\n",
      "    @param highest:  whether to extract the subgraph spanned by the highest or\n",
      "                     lowest scores.\n",
      "    @param scores:   the scores themsestrength_sprlves. C{None} uses the vertex degrees.\n",
      "    \"\"\"\n",
      " \n",
      "    if scores is None:\n",
      "        scores = graph.degree()\n",
      " \n",
      "    indices = range(graph.vcount())\n",
      "    indices.sort(key=scores.__getitem__)\n",
      " \n",
      "    n = int(round(graph.vcount() * fraction))\n",
      "    if highest:\n",
      "        indices = indices[-n:]\n",
      "    else:\n",
      "        indices = indices[:n]\n",
      " \n",
      "    return indices"
     ],
     "language": "python",
     "metadata": {},
     "outputs": [],
     "prompt_number": 180
    },
    {
     "cell_type": "code",
     "collapsed": false,
     "input": [
      "def rich_club_coefficient(graph, fraction=None, highest=True, scores_name=None, rewire=1000, average=1, control=None):\n",
      "    if type(fraction)==float:\n",
      "        fraction = [fraction]\n",
      "        \n",
      "    if fraction is None:\n",
      "        from numpy import arange\n",
      "        fraction = arange(.9,0, -.1)\n",
      "\n",
      "    from numpy import zeros\n",
      "    \n",
      "    if scores_name is None or scores_name=='degree':\n",
      "        scores = graph.degree()\n",
      "        randomization = 'out'\n",
      "    elif scores_name=='out_strength':\n",
      "        scores = graph.strength(graph.vs, mode=2,weights=graph.es[\"weight\"])\n",
      "        randomization = 'out'\n",
      "    elif scores_name=='in_strength':\n",
      "        scores = graph.strength(graph.vs, mode=1,weights=graph.es[\"weight\"])\n",
      "        randomization = 'in'\n",
      "    \n",
      "    rc_coefficient = zeros(len(fraction))\n",
      "    \n",
      "    for i in range(len(fraction)):\n",
      "    \n",
      "        node_indices = rich_nodes(graph, fraction=fraction[i], highest=highest, scores=scores)\n",
      "        \n",
      "        if scores_name is None or scores_name=='degree':\n",
      "            numerator = len(g.es.select(_within=node_indices))\n",
      "            denominator = sum(g.es.select(_target_in=node_indices)[\"weight\"])\n",
      "        elif scores_name=='out_strength':\n",
      "            numerator = sum(g.es.select(_within=node_indices)[\"weight\"])\n",
      "            denominator = sum(g.es.select(_source_in=node_indices)[\"weight\"])\n",
      "        elif scores_name=='in_strength':    \n",
      "            numerator = sum(g.es.select(_within=node_indices)[\"weight\"])\n",
      "            denominator = sum(g.es.select(_target_in=node_indices)[\"weight\"])\n",
      "            \n",
      "            \n",
      "        rc_coefficient[i] = numerator/denominator\n",
      "    \n",
      "    if control!=None:\n",
      "        from numpy import ndarray\n",
      "        if ~(type(control)==list or type(control)==ndarray):\n",
      "            control = list(control)\n",
      "            \n",
      "        control_rc_coefficient = zeros(len(fraction))\n",
      "        for i in range(len(control)):\n",
      "            random_graph = Graph.Weighted_Adjacency(control[i].toarray().tolist())\n",
      "            control_rc_coefficient = control_rc_coefficient +\\\n",
      "                rich_club_coefficient(random_graph, fraction=fraction, highest=highest, \\\n",
      "                    scores_name=scores_name, rewire=False)\n",
      "        control_rc_coefficient = control_rc_coefficient/len(control)\n",
      "        \n",
      "        return rc_coefficient/control_rc_coefficient\n",
      "    elif rewire:\n",
      "        control_rc_coefficient = zeros(len(fraction))\n",
      "        for i in range(average):\n",
      "            random_graph = directed_spr(graph, n_rewires=rewire, weighted=randomization)\n",
      "            control_rc_coefficient = control_rc_coefficient +\\\n",
      "                rich_club_coefficient(random_graph, fraction=fraction, highest=highest, \\\n",
      "                    scores_name=scores_name, rewire=False)\n",
      "        control_rc_coefficient = control_rc_coefficient/average\n",
      "            \n",
      "        return rc_coefficient/control\n",
      "    else:\n",
      "        return rc_coefficient"
     ],
     "language": "python",
     "metadata": {},
     "outputs": [],
     "prompt_number": 181
    },
    {
     "cell_type": "code",
     "collapsed": false,
     "input": [
      "i = [1,2,3]\n",
      "q = [3,2,1]\n",
      "sum(asarray([i,q]), axis=0)"
     ],
     "language": "python",
     "metadata": {},
     "outputs": [
      {
       "output_type": "pyout",
       "prompt_number": 182,
       "text": [
        "array([4, 4, 4])"
       ]
      }
     ],
     "prompt_number": 182
    },
    {
     "cell_type": "code",
     "collapsed": false,
     "input": [
      "class Timelines:\n",
      "    def __init__(self, with_control=True):\n",
      "        self.tls = []\n",
      "        self.control=with_control\n",
      "        \n",
      "        if self.control:\n",
      "            self.controls = []\n",
      "\n",
      "    def add_timeline(self, tl, control_tls=None):\n",
      "        self.tls.append(tl)\n",
      "        if self.control:\n",
      "            self.controls.append(control_tls)\n",
      "\n",
      "    def add_timelines(self, tl, control_tls=None):\n",
      "        for i in tl:\n",
      "            self.add_timeline(i)\n",
      "        if self.control:\n",
      "            for i in control_tls:\n",
      "                self.controls.append(i)\n",
      "    \n",
      "    \n",
      "    def __getattr__(self, name, version=None):\n",
      "        \n",
      "        if version==None:\n",
      "            if self.control:\n",
      "                version='normalized'\n",
      "            else:\n",
      "                version='raw'    \n",
      "        \n",
      "        if version in ['normalized', 'raw']:\n",
      "            raw = []\n",
      "            for i in self.tls:\n",
      "                raw.append(getattr(i, name))\n",
      "        if version in ['normalized', 'control']:\n",
      "            control = []\n",
      "            for i in self.controls:\n",
      "                control.append(getattr(i, name)[0])\n",
      "                \n",
      "        if version=='raw':\n",
      "            m = mean(asarray(raw), axis=0)\n",
      "            s = std(asarray(raw), axis=0)\n",
      "        elif version == 'control':\n",
      "            m = mean(asarray(control), axis=0)\n",
      "            s = std(asarray(control), axis=0)\n",
      "        elif version == 'normalized':\n",
      "            data = asarray(raw)/asarray(control)\n",
      "            m = mean(data, axis=0)\n",
      "            s = std(data, axis=0)\n",
      "        \n",
      "        return m, s\n",
      "\n",
      "        \n",
      "class Timeline:\n",
      "    def __init__(self):\n",
      "        self.q_betweeness = []\n",
      "        self.n_betweeness = []\n",
      "        self.q_walktrap = []\n",
      "        self.n_walktrap = []\n",
      "        self.q_infomap = []\n",
      "        self.n_infomap = []\n",
      "        self.codelength = []\n",
      "        \n",
      "        self.mean_path_length = []\n",
      "        self.mean_clustering = []\n",
      "        \n",
      "        self.betweeness_change_kendall = []\n",
      "        self.betweeness_change_spearmanr = []\n",
      "        \n",
      "        self.rc_out = [] #zeros([n_nets, n_runs, 9])\n",
      "        self.rc_in = [] #zeros([n_nets, n_runs, 9])\n",
      "        self.rc_out_int = []\n",
      "        self.rc_in_int = []\n",
      "        \n",
      "        self.last_betweeness = None\n",
      "        \n",
      "    def add_gen(self, g):\n",
      "        if type(g)==list:\n",
      "            g = Graph.Weighted_Adjacency(g)\n",
      "        #b = g.community_edge_betweenness(directed=True, weights=g.es[\"weight\"])\n",
      "        #n_betweeness.append(b.optimal_count)\n",
      "        #q_betweeness.append(b.as_clustering().q)\n",
      "        \n",
      "        #w = g.community_walktrap(weights=g.es[\"weight\"], steps=100)\n",
      "        #n_walktrap.append(w.optimal_count)\n",
      "        #q_walktrap.append(w.as_clustering().q)\n",
      "        \n",
      "        infomap = g.community_infomap(edge_weights=g.es[\"weight\"])\n",
      "        self.n_infomap.append(infomap.cluster_graph().vcount())\n",
      "        self.q_infomap.append(infomap.q)\n",
      "        self.codelength.append(infomap.codelength)\n",
      "\n",
      "        self.mean_path_length.append(mean(g.shortest_paths(weights='weight')))\n",
      "        self.mean_clustering.append(mean(g.transitivity_local_undirected(weights='weight')))\n",
      "        \n",
      "        betweeness_sequence = g.edge_betweenness(weights='weight')\n",
      "        \n",
      "        if self.last_betweeness==None:\n",
      "            self.last_betweeness = betweeness_sequence\n",
      "        else:\n",
      "            \n",
      "            #print shape(self.last_betweeness)\n",
      "            #print shape(betweeness_sequence)\n",
      "            \n",
      "            #kendalltau(self.last_betweeness, betweeness_sequence)\n",
      "            \n",
      "\n",
      "            self.betweeness_change_kendall.append(kendalltau(self.last_betweeness, betweeness_sequence)[0])\n",
      "            self.betweeness_change_spearmanr.append(spearmanr(self.last_betweeness, betweeness_sequence)[0])\n",
      "            \n",
      "        self.rc_out.append(rich_club_coefficient(g, scores_name='out_strength', rewire=False))\n",
      "        self.rc_in.append(rich_club_coefficient(g, scores_name='in_strength', rewire=False))\n",
      "        self.rc_out_int.append(sum(rc_out[-1]-1))\n",
      "        self.rc_in_int.append(sum(rc_in[-1]-1))"
     ],
     "language": "python",
     "metadata": {},
     "outputs": [],
     "prompt_number": 183
    },
    {
     "cell_type": "code",
     "collapsed": false,
     "input": [
      "data_dir = \"/data/alstottjd/Sini/\""
     ],
     "language": "python",
     "metadata": {},
     "outputs": [],
     "prompt_number": 184
    },
    {
     "cell_type": "code",
     "collapsed": false,
     "input": [
      "mat = loadmat(data_dir+'test_NL_mlast_nruns70_pinc0.001_addinc0_mnwt7_mxwt5_cf99_R1000000_netprms:_60_ws_-0.0333333-4_1_5_ncorr.mat')\n",
      "#mat = loadmat(data_dir+'test_NL_mlast_nruns70_pinc0.001_addinc0_mnwt7_mxwt5_cf99_R1000000_netprms:_60_oho_-6_1_5_ncorr.mat')"
     ],
     "language": "python",
     "metadata": {},
     "outputs": [],
     "prompt_number": 187
    },
    {
     "cell_type": "code",
     "collapsed": false,
     "input": [
      "n_nets = shape(mat['pnets'])[1]\n",
      "n_runs = shape(mat['pnets'][0,0])[1]\n",
      "n_controls = shape(mat['pnets_spr_out'][0,0])[0]\n",
      "\n",
      "T_out = Timelines()\n",
      "T_int = Timelines()\n",
      "for i in range(n_nets):\n",
      "    tl = Timeline()\n",
      "    CT_out = Timelines(with_control=False)\n",
      "    CT_in = Timelines(with_control=False)    \n",
      "    for j in arange(0,n_runs):#,10):\n",
      "        print \"j=%i\"%j\n",
      "        if floor(j%50)==0:\n",
      "            print j\n",
      "\n",
      "        tl.add_gen(mat['pnets'][0,i][0,j].toarray().tolist())\n",
      "        \n",
      "        if j==0:\n",
      "                c_out=[]\n",
      "                c_in=[]\n",
      "        for k in range(n_controls):\n",
      "            print \"k=%i\"%k\n",
      "            if j==0:\n",
      "                c_out.append(Timeline())\n",
      "                c_in.append(Timeline())\n",
      "            \n",
      "            control_out = mat['pnets_spr_out'][i,j,k].toarray().tolist()\n",
      "            c_out[k].add_gen(control_out)\n",
      "            control_in = mat['pnets_spr_in'][i,j,k].toarray().tolist()\n",
      "            c_in[k].add_gen(control_in)\n",
      "        \n",
      "        CT_out.add_timelines(c_out)\n",
      "        CT_in.add_timelines(c_in)\n",
      "        \n",
      "    T_out.add_timeline(tl, CT_out) \n",
      "    T_int.add_timeline(tl, CT_in)\n",
      "        "
     ],
     "language": "python",
     "metadata": {},
     "outputs": [
      {
       "output_type": "stream",
       "stream": "stdout",
       "text": [
        "j=0\n",
        "0\n",
        "k=0"
       ]
      },
      {
       "output_type": "stream",
       "stream": "stdout",
       "text": [
        "\n",
        "k=1"
       ]
      },
      {
       "output_type": "stream",
       "stream": "stdout",
       "text": [
        "\n",
        "k=2"
       ]
      },
      {
       "output_type": "stream",
       "stream": "stdout",
       "text": [
        "\n",
        "k=3"
       ]
      },
      {
       "output_type": "stream",
       "stream": "stdout",
       "text": [
        "\n",
        "k=4"
       ]
      },
      {
       "output_type": "stream",
       "stream": "stdout",
       "text": [
        "\n",
        "k=5"
       ]
      },
      {
       "output_type": "stream",
       "stream": "stdout",
       "text": [
        "\n",
        "k=6"
       ]
      },
      {
       "output_type": "stream",
       "stream": "stdout",
       "text": [
        "\n",
        "k=7"
       ]
      },
      {
       "output_type": "stream",
       "stream": "stdout",
       "text": [
        "\n",
        "k=8"
       ]
      },
      {
       "output_type": "stream",
       "stream": "stdout",
       "text": [
        "\n",
        "k=9"
       ]
      },
      {
       "output_type": "stream",
       "stream": "stdout",
       "text": [
        "\n",
        "j=1"
       ]
      },
      {
       "output_type": "stream",
       "stream": "stdout",
       "text": [
        "\n",
        "(678,)\n",
        "(678,)\n",
        "k=0"
       ]
      },
      {
       "ename": "ValueError",
       "evalue": "all keys need to be the same shape",
       "output_type": "pyerr",
       "traceback": [
        "\u001b[1;31m---------------------------------------------------------------------------\u001b[0m\n\u001b[1;31mValueError\u001b[0m                                Traceback (most recent call last)",
        "\u001b[1;32m<ipython-input-186-595132cf24fd>\u001b[0m in \u001b[0;36m<module>\u001b[1;34m()\u001b[0m\n\u001b[0;32m     26\u001b[0m \u001b[1;33m\u001b[0m\u001b[0m\n\u001b[0;32m     27\u001b[0m             \u001b[0mcontrol_out\u001b[0m \u001b[1;33m=\u001b[0m \u001b[0mmat\u001b[0m\u001b[1;33m[\u001b[0m\u001b[1;34m'pnets_spr_out'\u001b[0m\u001b[1;33m]\u001b[0m\u001b[1;33m[\u001b[0m\u001b[0mi\u001b[0m\u001b[1;33m,\u001b[0m\u001b[0mj\u001b[0m\u001b[1;33m,\u001b[0m\u001b[0mk\u001b[0m\u001b[1;33m]\u001b[0m\u001b[1;33m.\u001b[0m\u001b[0mtoarray\u001b[0m\u001b[1;33m(\u001b[0m\u001b[1;33m)\u001b[0m\u001b[1;33m.\u001b[0m\u001b[0mtolist\u001b[0m\u001b[1;33m(\u001b[0m\u001b[1;33m)\u001b[0m\u001b[1;33m\u001b[0m\u001b[0m\n\u001b[1;32m---> 28\u001b[1;33m             \u001b[0mc_out\u001b[0m\u001b[1;33m[\u001b[0m\u001b[0mk\u001b[0m\u001b[1;33m]\u001b[0m\u001b[1;33m.\u001b[0m\u001b[0madd_gen\u001b[0m\u001b[1;33m(\u001b[0m\u001b[0mcontrol_out\u001b[0m\u001b[1;33m)\u001b[0m\u001b[1;33m\u001b[0m\u001b[0m\n\u001b[0m\u001b[0;32m     29\u001b[0m             \u001b[0mcontrol_in\u001b[0m \u001b[1;33m=\u001b[0m \u001b[0mmat\u001b[0m\u001b[1;33m[\u001b[0m\u001b[1;34m'pnets_spr_in'\u001b[0m\u001b[1;33m]\u001b[0m\u001b[1;33m[\u001b[0m\u001b[0mi\u001b[0m\u001b[1;33m,\u001b[0m\u001b[0mj\u001b[0m\u001b[1;33m,\u001b[0m\u001b[0mk\u001b[0m\u001b[1;33m]\u001b[0m\u001b[1;33m.\u001b[0m\u001b[0mtoarray\u001b[0m\u001b[1;33m(\u001b[0m\u001b[1;33m)\u001b[0m\u001b[1;33m.\u001b[0m\u001b[0mtolist\u001b[0m\u001b[1;33m(\u001b[0m\u001b[1;33m)\u001b[0m\u001b[1;33m\u001b[0m\u001b[0m\n\u001b[0;32m     30\u001b[0m             \u001b[0mc_in\u001b[0m\u001b[1;33m[\u001b[0m\u001b[0mk\u001b[0m\u001b[1;33m]\u001b[0m\u001b[1;33m.\u001b[0m\u001b[0madd_gen\u001b[0m\u001b[1;33m(\u001b[0m\u001b[0mcontrol_in\u001b[0m\u001b[1;33m)\u001b[0m\u001b[1;33m\u001b[0m\u001b[0m\n",
        "\u001b[1;32m<ipython-input-183-813aa84e22d7>\u001b[0m in \u001b[0;36madd_gen\u001b[1;34m(self, g)\u001b[0m\n\u001b[0;32m    102\u001b[0m             \u001b[1;32mprint\u001b[0m \u001b[0mshape\u001b[0m\u001b[1;33m(\u001b[0m\u001b[0mbetweeness_sequence\u001b[0m\u001b[1;33m)\u001b[0m\u001b[1;33m\u001b[0m\u001b[0m\n\u001b[0;32m    103\u001b[0m \u001b[1;33m\u001b[0m\u001b[0m\n\u001b[1;32m--> 104\u001b[1;33m             \u001b[0mkendalltau\u001b[0m\u001b[1;33m(\u001b[0m\u001b[0mself\u001b[0m\u001b[1;33m.\u001b[0m\u001b[0mlast_betweeness\u001b[0m\u001b[1;33m,\u001b[0m \u001b[0mbetweeness_sequence\u001b[0m\u001b[1;33m)\u001b[0m\u001b[1;33m\u001b[0m\u001b[0m\n\u001b[0m\u001b[0;32m    105\u001b[0m \u001b[1;33m\u001b[0m\u001b[0m\n\u001b[0;32m    106\u001b[0m \u001b[1;33m\u001b[0m\u001b[0m\n",
        "\u001b[1;32m/home/alstottjd/Enthought/lib/python2.7/site-packages/scipy/stats/stats.pyc\u001b[0m in \u001b[0;36mkendalltau\u001b[1;34m(x, y, initial_lexsort)\u001b[0m\n\u001b[0;32m   2683\u001b[0m     \u001b[1;32mif\u001b[0m \u001b[0minitial_lexsort\u001b[0m\u001b[1;33m:\u001b[0m\u001b[1;33m\u001b[0m\u001b[0m\n\u001b[0;32m   2684\u001b[0m         \u001b[1;31m# sort implemented as mergesort, worst case: O(n log(n))\u001b[0m\u001b[1;33m\u001b[0m\u001b[1;33m\u001b[0m\u001b[0m\n\u001b[1;32m-> 2685\u001b[1;33m         \u001b[0mperm\u001b[0m \u001b[1;33m=\u001b[0m \u001b[0mnp\u001b[0m\u001b[1;33m.\u001b[0m\u001b[0mlexsort\u001b[0m\u001b[1;33m(\u001b[0m\u001b[1;33m(\u001b[0m\u001b[0my\u001b[0m\u001b[1;33m,\u001b[0m \u001b[0mx\u001b[0m\u001b[1;33m)\u001b[0m\u001b[1;33m)\u001b[0m\u001b[1;33m\u001b[0m\u001b[0m\n\u001b[0m\u001b[0;32m   2686\u001b[0m     \u001b[1;32melse\u001b[0m\u001b[1;33m:\u001b[0m\u001b[1;33m\u001b[0m\u001b[0m\n\u001b[0;32m   2687\u001b[0m         \u001b[1;31m# sort implemented as quicksort, 30% faster but with worst case: O(n^2)\u001b[0m\u001b[1;33m\u001b[0m\u001b[1;33m\u001b[0m\u001b[0m\n",
        "\u001b[1;31mValueError\u001b[0m: all keys need to be the same shape"
       ]
      },
      {
       "output_type": "stream",
       "stream": "stdout",
       "text": [
        "\n",
        "(607,)\n",
        "(612,)\n"
       ]
      }
     ],
     "prompt_number": 186
    },
    {
     "cell_type": "code",
     "collapsed": false,
     "input": [
      "#g = Graph.Weighted_Adjacency(mat['pnets'][0,0][0,0].toarray().tolist())"
     ],
     "language": "python",
     "metadata": {},
     "outputs": []
    },
    {
     "cell_type": "raw",
     "metadata": {},
     "source": [
      "n_nets = shape(mat['pnets'])[1]\n",
      "n_runs = shape(mat['pnets'][0,0])[1]\n",
      "\n",
      "q_betweeness = zeros([n_nets, n_runs])\n",
      "n_betweeness = zeros([n_nets, n_runs])\n",
      "q_walktrap = zeros([n_nets, n_runs])\n",
      "n_walktrap = zeros([n_nets, n_runs])\n",
      "q_infomap = zeros([n_nets, n_runs])\n",
      "n_infomap = zeros([n_nets, n_runs])\n",
      "codelength = zeros([n_nets, n_runs])\n",
      "mean_path_length = zeros([n_nets, n_runs])\n",
      "mean_clustering = zeros([n_nets, n_runs])\n",
      "betweeness_change = zeros([n_nets, n_runs])\n",
      "\n",
      "rc_out = zeros([n_nets, n_runs, 9])\n",
      "rc_in = zeros([n_nets, n_runs, 9])\n",
      "rc_out_int = zeros([n_nets, n_runs])\n",
      "rc_in_int = zeros([n_nets, n_runs])\n",
      "close('all')\n",
      "node_size = 100\n",
      "alpha = .9\n",
      "width = .4\n",
      "\n",
      "for i in range(n_nets):\n",
      "    last_betweeness = 0\n",
      "    for j in arange(0,n_runs):#,10):\n",
      "        if floor(j%50)==0:\n",
      "            print j\n",
      "\n",
      "        g = Graph.Weighted_Adjacency(mat['pnets'][0,i][0,j].toarray().tolist())\n",
      "        \n",
      "        \n",
      "        #b = g.community_edge_betweenness(directed=True, weights=g.es[\"weight\"])\n",
      "        #n_betweeness.append(b.optimal_count)\n",
      "        #q_betweeness.append(b.as_clustering().q)\n",
      "        \n",
      "        #w = g.community_walktrap(weights=g.es[\"weight\"], steps=100)\n",
      "        #n_walktrap.append(w.optimal_count)\n",
      "        #q_walktrap.append(w.as_clustering().q)\n",
      "        \n",
      "        infomap = g.community_infomap(edge_weights=g.es[\"weight\"])\n",
      "        n_infomap[i,j] = infomap.cluster_graph().vcount()\n",
      "        q_infomap[i,j] = infomap.q\n",
      "        codelength[i, j] = infomap.codelength\n",
      "\n",
      "        mean_path_length[i,j] = mean(g.shortest_paths(weights='weight'))\n",
      "        mean_clustering[i,j] = mean(g.transitivity_local_undirected(weights='weight'))\n",
      "        \n",
      "        betweeness_sequence = g.edge_betweenness(weights='weight')\n",
      "        if last_betweeness==0:\n",
      "            last_betweeness = betweeness_sequence\n",
      "        else:\n",
      "            betweeness_change[i,j] = kendalltau(last_betweeness, betweeness_sequence)[0]\n",
      "        \n",
      "        rc_out[i,j,:] = rich_club_coefficient(g, scores_name='out_strength', control = mat['pnets_spr_out'][i,j,:])\n",
      "        rc_in[i,j,:] = rich_club_coefficient(g, scores_name='in_strength', control = mat['pnets_spr_in'][i,j,:])\n",
      "        rc_out_int[i,j] = sum(rc_out[i,j,:]-1)\n",
      "        rc_in_int[i,j] = sum(rc_in[i,j,:]-1)\n",
      "        \n",
      "        \n",
      "            \n",
      "        if j in [0, 180, 480]:\n",
      "            savetxt('inrichclub_frame%i.txt'%j, rc_in[i,j,:])\n",
      "            savetxt('outrichclub_frame%i.txt'%j, rc_out[i,j,:])\n",
      "            \n",
      "            figure()\n",
      "            plot(rc_in[i,j,:], 'b')\n",
      "            plot(rc_out[i,j,:], 'g')\n",
      "            #show()\n",
      "            savefig('richclub_frame%i.pdf'%j)\n",
      "            \n",
      "        #net = nx.DiGraph(mat['pnets'][0,i][0,j])\n",
      "        #pos=nx.spring_layout(net)\n",
      "        #figure()\n",
      "        #title(str(i)+', '+str(z.as_clustering().q))\n",
      "        #nx.draw(net,pos,node_size=node_size,alpha=alpha, width=width, with_labels=False)\n",
      "        #show()"
     ]
    },
    {
     "cell_type": "code",
     "collapsed": false,
     "input": [
      "increment = 1.0/10.0\n",
      "x_vals = arange(.1, 1, .1)\n",
      "w= 3.375\n",
      "h = w/1.6180\n",
      "#f = figure(figsize=(w,h))\n",
      "f = figure()\n",
      "\n",
      "ax1 = f.add_subplot(131)\n",
      "handles = {}\n",
      "handles['In Strength'] = ax1.plot(x_vals, rc_in[0,0, :], label='In Strength Rich Club', color='b')\n",
      "handles['In Strength'] = ax1.plot(x_vals, rc_out[0,0,:], label='Out Strength Rich Club', color='g')\n",
      "plt.setp(ax1.get_xticklabels(), visible=False)\n",
      "ylabel(\"Rich Club Coefficient\")\n",
      "text(.5, .9, '0 Cascades', transform = ax1.transAxes, horizontalalignment='center', fontsize=10)\n",
      "#xlabel('Strength Decile')\n",
      "plt.xticks(x_vals[::2], x_vals[::2])\n",
      "#handles, labels = ax1.get_legend_handles_labels()\n",
      "#ax1.legend(handles, labels, loc=6)\n",
      "\n",
      "ax2 = f.add_subplot(132, sharey=ax1)\n",
      "handles = {}\n",
      "handles['In Strength'] = ax2.plot(x_vals, rc_in[0,180,:], label='In Strength Rich Club', color='b')\n",
      "handles['In Strength'] = ax2.plot(x_vals, rc_out[0,180,:], label='Out Strength Rich Club', color='g')\n",
      "plt.setp(ax2.get_yticklabels(), visible=False)\n",
      "xlabel('Strength Decile')\n",
      "plt.xticks(x_vals[::2], (x_vals[::2]*100).astype(int))\n",
      "text(.5, .9, '36x10$^{5}$ Cascades', transform = ax2.transAxes, horizontalalignment='center', fontsize=10)\n",
      "#handles, labels = ax.get_legend_handles_labels()\n",
      "#ax.legend(handles, labels, loc=1)\n",
      "\n",
      "ax3 = f.add_subplot(133, sharey=ax1)\n",
      "handles = {}\n",
      "handles['In Strength'] = ax3.plot(x_vals, rc_in[0,480,:], label='In Strength', color='b')\n",
      "handles['In Strength'] = ax3.plot(x_vals, rc_out[0,480,:], label='Out Strength', color='g')\n",
      "plt.setp(ax3.get_yticklabels(), visible=False)\n",
      "plt.setp(ax3.get_xticklabels(), visible=False)\n",
      "text(.5, .9, '96x10$^{5}$ Cascades', transform = ax3.transAxes, horizontalalignment='center', fontsize=10)\n",
      "#xlabel('Strength Decile')\n",
      "plt.xticks(x_vals[::2], x_vals[::2])\n",
      "\n",
      "handles, labels = ax3.get_legend_handles_labels()\n",
      "ax3.legend(handles, labels, loc=5, fontsize=8)\n",
      "\n",
      "\n",
      "savefig(data_dir+'RichClubSamples.pdf', bbox_inches='tight')\n",
      "#suptitle('Rich Club Growth and Death')"
     ],
     "language": "python",
     "metadata": {},
     "outputs": []
    },
    {
     "cell_type": "code",
     "collapsed": false,
     "input": [
      "close('all')\n",
      "increment = 10.0/500.0\n",
      "x_vals = arange(0, 10+increment, increment)"
     ],
     "language": "python",
     "metadata": {},
     "outputs": []
    },
    {
     "cell_type": "code",
     "collapsed": false,
     "input": [
      "from matplotlib.ticker import MultipleLocator, FormatStrFormatter\n",
      "\n",
      "#Modularity Metrics\n",
      "#plot(n_betweeness)\n",
      "figure()\n",
      "#plot(q_betweeness)\n",
      "y_vals = mean(n_infomap, axis=0)\n",
      "error = std(n_infomap, axis=0)\n",
      "plot(x_vals, y_vals)\n",
      "fill_between(x_vals, y_vals-error, y_vals+error, alpha=.5)\n",
      "\n",
      "xlabel(\"Cascades (n x 10$^{6}$)\")\n",
      "ylabel(\"Number of Modules\")\n",
      "inset_ax = axes([0.58,0.58,0.3,0.3])\n",
      "y_vals = mean(q_infomap, axis=0)\n",
      "error = std(q_infomap, axis=0)\n",
      "inset_ax.plot(x_vals, y_vals)\n",
      "inset_ax.fill_between(x_vals, y_vals-error, y_vals+error, alpha=.5)\n",
      "ylabel(\"Modularity Index\", fontsize=10)\n",
      "inset_ax.yaxis.set_major_locator(MultipleLocator(.1))\n",
      "\n",
      "\n",
      "savetxt('modules.txt', mean(n_infomap, axis=0))\n",
      "savetxt('modularity.txt', mean(q_infomap, axis=0))\n",
      "savefig(data_dir+'Modularity.pdf', bbox_inches='tight')\n",
      "#title(\"Modularity with Learning\")"
     ],
     "language": "python",
     "metadata": {},
     "outputs": []
    },
    {
     "cell_type": "code",
     "collapsed": false,
     "input": [
      "figure()\n",
      "y_vals = mean(codelength, axis=0)\n",
      "error = std(codelength, axis=0)\n",
      "plot(x_vals, y_vals)\n",
      "fill_between(x_vals, y_vals-error, y_vals+error, alpha=.5)\n",
      "\n",
      "xlabel(\"Cascades (n x 10$^{6}$)\")\n",
      "ylabel(\"Bits to Represent Network\")\n",
      "\n",
      "savetxt('compression.txt', mean(codelength, axis=0))\n",
      "savefig(data_dir+'Compression.pdf', bbox_inches='tight')\n",
      "#title(\"Network Compression with Learning\")"
     ],
     "language": "python",
     "metadata": {},
     "outputs": []
    },
    {
     "cell_type": "code",
     "collapsed": false,
     "input": [
      "f = figure()\n",
      "ax = f.add_subplot(111)\n",
      "handles = {}\n",
      "y_vals = mean(rc_in_int, axis=0)\n",
      "error = std(rc_in_int, axis=0)\n",
      "handles['In Strength'] = ax.plot(x_vals, y_vals, label='In Strength', color='b')\n",
      "fill_between(x_vals, y_vals-error, y_vals+error, color='b', alpha=.5)\n",
      "\n",
      "y_vals = mean(rc_out_int, axis=0)\n",
      "error = std(rc_out_int, axis=0)\n",
      "handles['Out Strength'] = ax.plot(x_vals, y_vals, label='Out Strength', color='g')\n",
      "fill_between(x_vals, y_vals-error, y_vals+error, color='g', alpha=.5)\n",
      "\n",
      "\n",
      "xlabel(\"Cascades (n x 10$^{6}$)\")\n",
      "ylabel(\"Integrated Rich Club Index\")\n",
      "\n",
      "handles, labels = ax.get_legend_handles_labels()\n",
      "ax.legend(handles, labels, loc=1)\n",
      "\n",
      "savetxt('inrichclubint.txt', rc_in_int)\n",
      "savetxt('outrichclubint.txt', rc_out_int)\n",
      "savefig(data_dir+'RichClubInt.pdf', bbox_inches='tight')\n",
      "#title(\"Rich Club with Learning\")"
     ],
     "language": "python",
     "metadata": {},
     "outputs": []
    },
    {
     "cell_type": "code",
     "collapsed": false,
     "input": [
      "f = figure()\n",
      "ax = f.add_subplot(111)\n",
      "handles = {}\n",
      "y_vals = mean(mean_path_length, axis=0)\n",
      "error = std(mean_path_length, axis=0)\n",
      "handles['In Strength'] = ax.plot(x_vals, y_vals, label='Path Length', color='b')\n",
      "fill_between(x_vals, y_vals-error, y_vals+error, color='b', alpha=.5)\n",
      "\n",
      "y_vals = mean(mean_clustering, axis=0)\n",
      "error = std(mean_clustering, axis=0)\n",
      "handles['Out Strength'] = ax.plot(x_vals, y_vals, label='Clustering', color='g')\n",
      "fill_between(x_vals, y_vals-error, y_vals+error, color='g', alpha=.5)\n",
      "\n",
      "\n",
      "xlabel(\"Cascades (n x 10$^{6}$)\")\n",
      "#ylabel(\"Integrated Rich Club Index\")\n",
      "\n",
      "handles, labels = ax.get_legend_handles_labels()\n",
      "ax.legend(handles, labels, loc=1)\n",
      "\n",
      "#savetxt('inrichclubint.txt', rc_in_int)\n",
      "#savetxt('outrichclubint.txt', rc_out_int)\n",
      "#savefig(data_dir+'RichClubInt.pdf', bbox_inches='tight')\n",
      "#title(\"Rich Club with Learning\")"
     ],
     "language": "python",
     "metadata": {},
     "outputs": []
    },
    {
     "cell_type": "code",
     "collapsed": false,
     "input": [
      "figure()\n",
      "y_vals = mean(betweeness_change, axis=0)\n",
      "error = std(betweeness_change, axis=0)\n",
      "plot(x_vals, y_vals)\n",
      "fill_between(x_vals, y_vals-error, y_vals+error, alpha=.5)\n",
      "\n",
      "xlabel(\"Cascades (n x 10$^{6}$)\")\n",
      "ylabel(\"betweeness_change\")\n",
      "\n",
      "#savetxt('compression.txt', mean(codelength, axis=0))\n",
      "#savefig(data_dir+'Compression.pdf', bbox_inches='tight')\n",
      "#title(\"Network Compression with Learning\")"
     ],
     "language": "python",
     "metadata": {},
     "outputs": []
    },
    {
     "cell_type": "code",
     "collapsed": false,
     "input": [
      "x_vals = arange(-1*(shape(rc_in_int)[1]-1), shape(rc_in_int)[1], 1)"
     ],
     "language": "python",
     "metadata": {},
     "outputs": []
    },
    {
     "cell_type": "code",
     "collapsed": false,
     "input": [
      "##Different Rich Club Metrics' Correlation with Each Other\n",
      "f = figure()\n",
      "ax = f.add_subplot(111)\n",
      "handles = {}\n",
      "\n",
      "corr_out_in = zeros([shape(rc_in_int)[0], shape(rc_in_int)[1]*2-1])\n",
      "\n",
      "for i in range(shape(rc_in_int)[0]):\n",
      "    corr_out_in[i] = correlate(array(rc_in_int[i]), array(rc_out_int[i]))\n",
      "##\"When does in strength look like out strength?\"\n",
      "#ax.plot(x, mean(corr_out_in, axis=0))\n",
      "y_vals = mean(corr_out_in, axis=0)\n",
      "error = std(corr_out_in, axis=0)\n",
      "plot(x_vals, y_vals)\n",
      "fill_between(x_vals, y_vals-error, y_vals+error, alpha=.5)\n",
      "\n",
      "max_corr_out_in = x_vals[argmax(mean(corr_out_in, axis=0))]\n",
      "ax.plot((max_corr_out_in, max_corr_out_in), ylim(), 'b--')\n",
      "\n",
      "xlabel(\"Cascades (n x 10$^{6}$)\")\n",
      "ylabel(\"Cross-Correlation\")\n",
      "title(\"In Strength Rich Club and Out Strength Rich Club Cross Correlation\")"
     ],
     "language": "python",
     "metadata": {},
     "outputs": []
    },
    {
     "cell_type": "code",
     "collapsed": false,
     "input": [
      "def plot_line(x, y, ax, label, color='b'):\n",
      "\n",
      "    y_vals = mean(y, axis=0)\n",
      "    error = std(y, axis=0)\n",
      "    ax.plot(x_vals, y_vals, color, label=label)\n",
      "    fill_between(x_vals, y_vals-error, y_vals+error, alpha=.5, color = color)"
     ],
     "language": "python",
     "metadata": {},
     "outputs": []
    },
    {
     "cell_type": "code",
     "collapsed": false,
     "input": [
      "def correlation_figure(a, b, ax, color='b', label=None):\n",
      "    \n",
      "    \n",
      "    corr = zeros([shape(a)[0], shape(a)[1]*2-1])\n",
      "    for i in range(shape(a)[0]):\n",
      "        corr[i] = correlate(array(a[i]), array(b[i]))\n",
      "    \n",
      "    x_vals = arange(-1*(shape(a)[1]-1), shape(a)[1], 1)\n",
      "    \n",
      "    \n",
      "    plot_line(x_vals, corr, ax, color = color, label=label)\n",
      "    \n",
      "    max_corr = x_vals[argmax(mean(corr, axis=0))]\n",
      "    \n",
      "    ax.plot((max_corr, max_corr), ylim(), color+'--')\n",
      "    xlabel(\"Cascades (n x 10$^{6}$)\")\n",
      "    ylabel(\"Cross-Correlation\")\n",
      "    \n",
      "    "
     ],
     "language": "python",
     "metadata": {},
     "outputs": []
    },
    {
     "cell_type": "code",
     "collapsed": false,
     "input": [
      "##Rich Club correlation with Modularity\n",
      "f = figure()\n",
      "ax = f.add_subplot(111)\n",
      "correlation_figure(rc_in_int, q_infomap, ax, 'b', 'In Strength')\n",
      "correlation_figure(rc_out_int, q_infomap, ax, 'g', 'Out Strength')\n",
      "handles, labels = ax.get_legend_handles_labels()\n",
      "ax.legend(handles, labels, loc=1)\n",
      "title(\"Rich Club and Modularity Cross Correlation\")"
     ],
     "language": "python",
     "metadata": {},
     "outputs": []
    },
    {
     "cell_type": "code",
     "collapsed": false,
     "input": [
      "##Rich Club correlation with Modularity\n",
      "f = figure()\n",
      "ax = f.add_subplot(111)\n",
      "correlation_figure(rc_in_int, n_infomap, ax, 'b', 'In Strength')\n",
      "correlation_figure(rc_out_int, n_infomap, ax, 'g', 'Out Strength')\n",
      "handles, labels = ax.get_legend_handles_labels()\n",
      "ax.legend(handles, labels, loc=1)\n",
      "title(\"Rich Club and Number of Modules Cross Correlation\")"
     ],
     "language": "python",
     "metadata": {},
     "outputs": []
    },
    {
     "cell_type": "code",
     "collapsed": false,
     "input": [
      "##Rich Club correlation with Modularity\n",
      "f = figure()\n",
      "ax = f.add_subplot(111)\n",
      "correlation_figure(rc_in_int, 1/codelength, ax, 'b', 'In Strength')\n",
      "correlation_figure(rc_out_int, 1/codelength, ax, 'g', 'Out Strength')\n",
      "handles, labels = ax.get_legend_handles_labels()\n",
      "ax.legend(handles, labels, loc=1)\n",
      "title(\"Rich Club and Network Compression Cross Correlation\")"
     ],
     "language": "python",
     "metadata": {},
     "outputs": []
    },
    {
     "cell_type": "markdown",
     "metadata": {},
     "source": [
      "In Strength Rich Clubs trail Out Strength Rich Club\n",
      "\n",
      "Both Rich Clubs trail Modularity"
     ]
    },
    {
     "cell_type": "code",
     "collapsed": false,
     "input": [
      "from rpy2.robjects import r\n",
      "r(\"source('/home/alstottjd/alluvial/code_for_jeff_20Aug2012.R')\")\n",
      "change_in_community_structure=asarray(r('OUTPUT1'))"
     ],
     "language": "python",
     "metadata": {},
     "outputs": [],
     "prompt_number": 219
    },
    {
     "cell_type": "code",
     "collapsed": false,
     "input": [
      "print change_in_community_structure\n",
      "print diff(rc_in_int[:40])\n",
      "scatter(change_in_community_structure, diff(rc_in_int[:40]))"
     ],
     "language": "python",
     "metadata": {},
     "outputs": [
      {
       "ename": "ValueError",
       "evalue": "x and y must be the same size",
       "output_type": "pyerr",
       "traceback": [
        "\u001b[1;31m---------------------------------------------------------------------------\u001b[0m\n\u001b[1;31mValueError\u001b[0m                                Traceback (most recent call last)",
        "\u001b[1;32m<ipython-input-221-0c557083385d>\u001b[0m in \u001b[0;36m<module>\u001b[1;34m()\u001b[0m\n\u001b[0;32m      1\u001b[0m \u001b[1;32mprint\u001b[0m \u001b[0mchange_in_community_structure\u001b[0m\u001b[1;33m\u001b[0m\u001b[0m\n\u001b[0;32m      2\u001b[0m \u001b[1;32mprint\u001b[0m \u001b[0mdiff\u001b[0m\u001b[1;33m(\u001b[0m\u001b[0mrc_in_int\u001b[0m\u001b[1;33m[\u001b[0m\u001b[1;33m:\u001b[0m\u001b[1;36m40\u001b[0m\u001b[1;33m]\u001b[0m\u001b[1;33m)\u001b[0m\u001b[1;33m\u001b[0m\u001b[0m\n\u001b[1;32m----> 3\u001b[1;33m \u001b[0mscatter\u001b[0m\u001b[1;33m(\u001b[0m\u001b[0mchange_in_community_structure\u001b[0m\u001b[1;33m,\u001b[0m \u001b[0mdiff\u001b[0m\u001b[1;33m(\u001b[0m\u001b[0mrc_in_int\u001b[0m\u001b[1;33m[\u001b[0m\u001b[1;33m:\u001b[0m\u001b[1;36m40\u001b[0m\u001b[1;33m]\u001b[0m\u001b[1;33m)\u001b[0m\u001b[1;33m)\u001b[0m\u001b[1;33m\u001b[0m\u001b[0m\n\u001b[0m",
        "\u001b[1;32m/home/alstottjd/Enthought/lib/python2.7/site-packages/matplotlib/pyplot.pyc\u001b[0m in \u001b[0;36mscatter\u001b[1;34m(x, y, s, c, marker, cmap, norm, vmin, vmax, alpha, linewidths, faceted, verts, hold, **kwargs)\u001b[0m\n\u001b[0;32m   2892\u001b[0m                          \u001b[0mvmin\u001b[0m\u001b[1;33m=\u001b[0m\u001b[0mvmin\u001b[0m\u001b[1;33m,\u001b[0m \u001b[0mvmax\u001b[0m\u001b[1;33m=\u001b[0m\u001b[0mvmax\u001b[0m\u001b[1;33m,\u001b[0m \u001b[0malpha\u001b[0m\u001b[1;33m=\u001b[0m\u001b[0malpha\u001b[0m\u001b[1;33m,\u001b[0m\u001b[1;33m\u001b[0m\u001b[0m\n\u001b[0;32m   2893\u001b[0m                          \u001b[0mlinewidths\u001b[0m\u001b[1;33m=\u001b[0m\u001b[0mlinewidths\u001b[0m\u001b[1;33m,\u001b[0m \u001b[0mfaceted\u001b[0m\u001b[1;33m=\u001b[0m\u001b[0mfaceted\u001b[0m\u001b[1;33m,\u001b[0m \u001b[0mverts\u001b[0m\u001b[1;33m=\u001b[0m\u001b[0mverts\u001b[0m\u001b[1;33m,\u001b[0m\u001b[1;33m\u001b[0m\u001b[0m\n\u001b[1;32m-> 2894\u001b[1;33m                          **kwargs)\n\u001b[0m\u001b[0;32m   2895\u001b[0m         \u001b[0mdraw_if_interactive\u001b[0m\u001b[1;33m(\u001b[0m\u001b[1;33m)\u001b[0m\u001b[1;33m\u001b[0m\u001b[0m\n\u001b[0;32m   2896\u001b[0m     \u001b[1;32mfinally\u001b[0m\u001b[1;33m:\u001b[0m\u001b[1;33m\u001b[0m\u001b[0m\n",
        "\u001b[1;32m/home/alstottjd/Enthought/lib/python2.7/site-packages/matplotlib/axes.pyc\u001b[0m in \u001b[0;36mscatter\u001b[1;34m(self, x, y, s, c, marker, cmap, norm, vmin, vmax, alpha, linewidths, faceted, verts, **kwargs)\u001b[0m\n\u001b[0;32m   5838\u001b[0m         \u001b[0my\u001b[0m \u001b[1;33m=\u001b[0m \u001b[0mnp\u001b[0m\u001b[1;33m.\u001b[0m\u001b[0mma\u001b[0m\u001b[1;33m.\u001b[0m\u001b[0mravel\u001b[0m\u001b[1;33m(\u001b[0m\u001b[0my\u001b[0m\u001b[1;33m)\u001b[0m\u001b[1;33m\u001b[0m\u001b[0m\n\u001b[0;32m   5839\u001b[0m         \u001b[1;32mif\u001b[0m \u001b[0mx\u001b[0m\u001b[1;33m.\u001b[0m\u001b[0msize\u001b[0m \u001b[1;33m!=\u001b[0m \u001b[0my\u001b[0m\u001b[1;33m.\u001b[0m\u001b[0msize\u001b[0m\u001b[1;33m:\u001b[0m\u001b[1;33m\u001b[0m\u001b[0m\n\u001b[1;32m-> 5840\u001b[1;33m             \u001b[1;32mraise\u001b[0m \u001b[0mValueError\u001b[0m\u001b[1;33m(\u001b[0m\u001b[1;34m\"x and y must be the same size\"\u001b[0m\u001b[1;33m)\u001b[0m\u001b[1;33m\u001b[0m\u001b[0m\n\u001b[0m\u001b[0;32m   5841\u001b[0m \u001b[1;33m\u001b[0m\u001b[0m\n\u001b[0;32m   5842\u001b[0m         \u001b[0ms\u001b[0m \u001b[1;33m=\u001b[0m \u001b[0mnp\u001b[0m\u001b[1;33m.\u001b[0m\u001b[0mma\u001b[0m\u001b[1;33m.\u001b[0m\u001b[0mravel\u001b[0m\u001b[1;33m(\u001b[0m\u001b[0ms\u001b[0m\u001b[1;33m)\u001b[0m  \u001b[1;31m# This doesn't have to match x, y in size.\u001b[0m\u001b[1;33m\u001b[0m\u001b[0m\n",
        "\u001b[1;31mValueError\u001b[0m: x and y must be the same size"
       ]
      },
      {
       "output_type": "stream",
       "stream": "stdout",
       "text": [
        "[ 0.78031368  0.90993626  0.79808137  0.88810639  0.95953963  1.\n",
        "  0.93482671  1.          1.          1.          0.96420123  1.          1.\n",
        "  0.96298729  1.          1.          1.          1.          1.          1.\n",
        "  0.95204293  0.96427264  0.96429541  1.          0.90475008  0.74253717\n",
        "  0.62881988  0.70436667  0.90249791  0.76089494  1.          0.76168904\n",
        "  0.76476102  1.          1.          0.87487306  1.          1.\n",
        "  0.86785532]\n",
        "[[-0.04982908 -0.09935357  0.08448442 ..., -0.16917563  0.03626612\n",
        "   0.04981696]\n",
        " [-0.10882541 -0.03324735  0.02617056 ..., -0.04122953 -0.0029478\n",
        "   0.00667882]\n",
        " [-0.0770326   0.04024314 -0.03413561 ...,  0.03425614 -0.13604263\n",
        "   0.13533875]\n",
        " [-0.08871083  0.01555582  0.00511694 ...,  0.0029786  -0.00124176\n",
        "   0.00442489]\n",
        " [-0.08521843  0.10288258  0.05446461 ..., -0.02917204  0.14977491\n",
        "   0.03265461]]\n"
       ]
      },
      {
       "output_type": "display_data",
       "png": "[encoded data removed]"
      }
     ],
     "prompt_number": 221
    },
    {
     "cell_type": "code",
     "collapsed": false,
     "input": [
      "import Aaron"
     ],
     "language": "python",
     "metadata": {},
     "outputs": []
    },
    {
     "cell_type": "code",
     "collapsed": false,
     "input": [
      "plot(change_in_community_structure)"
     ],
     "language": "python",
     "metadata": {},
     "outputs": [
      {
       "output_type": "pyout",
       "prompt_number": 220,
       "text": [
        "[<matplotlib.lines.Line2D at 0x21793f90>]"
       ]
      },
      {
       "output_type": "display_data",
       "png": "[encoded data removed]"
      }
     ],
     "prompt_number": 220
    },
    {
     "cell_type": "code",
     "collapsed": false,
     "input": [
      "f = figure()\n",
      "ax = f.add_subplot(111)\n",
      "\n",
      "ax.scatter(change_in_community_structure, abs(diff(rc_in_int[:40])), c='b', label='In Strength')\n",
      "ax.scatter(change_in_community_structure, abs(diff(rc_out_int[:40])), c='g', label='Out Strength')\n",
      "\n",
      "handles, labels = ax.get_legend_handles_labels()\n",
      "ax.legend(handles, labels, loc=1)"
     ],
     "language": "python",
     "metadata": {},
     "outputs": []
    }
   ],
   "metadata": {}
  }
 ]
}